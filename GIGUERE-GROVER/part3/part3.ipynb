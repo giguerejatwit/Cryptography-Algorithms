{
 "cells": [
  {
   "cell_type": "code",
   "execution_count": 1,
   "id": "820367ad",
   "metadata": {},
   "outputs": [],
   "source": [
    "import numpy as np\n",
    "\n",
    "from qiskit import *\n",
    "from qiskit.visualization import *\n"
   ]
  },
  {
   "cell_type": "code",
   "execution_count": 2,
   "id": "2cffeae4",
   "metadata": {},
   "outputs": [],
   "source": [
    "# number of qubits\n",
    "n = 4\n",
    "# iterations\n",
    "r = 3"
   ]
  },
  {
   "cell_type": "code",
   "execution_count": 3,
   "id": "324e51f3",
   "metadata": {},
   "outputs": [
    {
     "data": {
      "text/plain": [
       "<qiskit.circuit.instructionset.InstructionSet at 0x12fb626a0>"
      ]
     },
     "execution_count": 3,
     "metadata": {},
     "output_type": "execute_result"
    }
   ],
   "source": [
    "# --------- Initialization ---------\n",
    "grovers = QuantumCircuit(n + 1, n)\n",
    "\n",
    "for i in range(n):\n",
    "    grovers.h(i)\n",
    "\n",
    "grovers.barrier()\n"
   ]
  },
  {
   "cell_type": "code",
   "execution_count": 4,
   "id": "c47e776a",
   "metadata": {},
   "outputs": [],
   "source": [
    "# -------- Finalization ---------\n",
    "\n",
    "for i in range(r):\n",
    "\n",
    "    for i in range(n):\n",
    "        if i == 1 or i == 2:\n",
    "            grovers.x(i)\n",
    "\n",
    "    grovers.barrier()\n",
    "\n",
    "    # Phase Inversion    \n",
    "    grovers.h(3)\n",
    "    \n",
    "    grovers.barrier()\n",
    "\n",
    "    grovers.ccx(0, 1, 4)\n",
    "\n",
    "    grovers.ccx(2, 4, 3)\n",
    "\n",
    "    grovers.ccx(0, 1, 4)\n",
    "\n",
    "    grovers.barrier()\n",
    "    \n",
    "    grovers.h(3)\n",
    "    \n",
    "    grovers.barrier()\n",
    "\n",
    "    for i in range(n):\n",
    "        if i == 1 or i == 2:\n",
    "            grovers.x(i)\n",
    "\n",
    "    grovers.barrier()\n",
    "\n",
    "    for i in range(n):\n",
    "        grovers.h(i)\n",
    "        grovers.x(i)\n",
    "\n",
    "    grovers.barrier()\n",
    "\n",
    "# ------- inversion about the mean -------\n",
    "    grovers.h(3)\n",
    "    \n",
    "    grovers.ccx(0, 1, 4) \n",
    "\n",
    "    grovers.ccx(2, 4, 3)\n",
    "\n",
    "    grovers.ccx(0, 1, 4)\n",
    "\n",
    "    grovers.h(3)\n",
    "    \n",
    "    grovers.barrier()\n",
    "\n",
    "    for i in range(n):\n",
    "        grovers.x(i)\n",
    "        grovers.h(i)\n",
    "\n",
    "    grovers.barrier()"
   ]
  },
  {
   "cell_type": "code",
   "execution_count": null,
   "id": "35a38dcf",
   "metadata": {},
   "outputs": [],
   "source": [
    "grovers.draw(output='mpl')"
   ]
  },
  {
   "cell_type": "code",
   "execution_count": null,
   "id": "b21186df",
   "metadata": {
    "scrolled": true
   },
   "outputs": [],
   "source": [
    "# --------- run simulation ---------\n",
    "for i in range(n):\n",
    "   grovers.measure(i, i)\n",
    "\n",
    "quasm_sim = Aer.get_backend('qasm_simulator')\n",
    "shots = 1024\n",
    "qobj = assemble(grovers, quasm_sim )\n",
    "result = quasm_sim.run(qobj).result()\n",
    "answer = result.get_counts()\n",
    "plot_histogram(answer)\n"
   ]
  },
  {
   "cell_type": "code",
   "execution_count": null,
   "id": "763f1be1",
   "metadata": {
    "scrolled": true
   },
   "outputs": [],
   "source": [
    "grovers.draw(output='mpl', filename=\"grovers_circuit.png\")"
   ]
  }
 ],
 "metadata": {
  "kernelspec": {
   "display_name": "Python 3 (ipykernel)",
   "language": "python",
   "name": "python3"
  },
  "language_info": {
   "codemirror_mode": {
    "name": "ipython",
    "version": 3
   },
   "file_extension": ".py",
   "mimetype": "text/x-python",
   "name": "python",
   "nbconvert_exporter": "python",
   "pygments_lexer": "ipython3",
   "version": "3.9.6"
  }
 },
 "nbformat": 4,
 "nbformat_minor": 5
}
